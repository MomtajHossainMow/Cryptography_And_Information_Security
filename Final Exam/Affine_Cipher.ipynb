{
 "cells": [
  {
   "cell_type": "code",
   "execution_count": 10,
   "metadata": {},
   "outputs": [],
   "source": [
    "#Encryption Function\n",
    "def encryption(plaintext, key1, key2):\n",
    "    text = plaintext\n",
    "    ciphertext = \"\"\n",
    "    for char in text:\n",
    "        #Change only the alphabets\n",
    "        if char.isalpha():\n",
    "            order = ord(char)\n",
    "            #Range for lowercase letter is 97 to 122\n",
    "            if char.islower():\n",
    "                order = order - 97\n",
    "                order = ((order * key1) + key2) % 26\n",
    "                order = order + 97\n",
    "                new_char = chr(order)\n",
    "                ciphertext = ciphertext + new_char\n",
    "            #Range for uppercase letter is 65 to 90\n",
    "            if char.isupper():\n",
    "                order = order - 65\n",
    "                order = ((order * key1) + key2) % 26\n",
    "                order = order + 65\n",
    "                new_char = chr(order)\n",
    "                ciphertext = ciphertext + new_char\n",
    "        #Keep other characters same as it\n",
    "        else :\n",
    "            ciphertext = ciphertext + char\n",
    "    return ciphertext\n"
   ]
  },
  {
   "cell_type": "code",
   "execution_count": 11,
   "metadata": {},
   "outputs": [],
   "source": [
    "#Decrption Function\n",
    "def decryption(ciphertext, key1, key2):\n",
    "    text = ciphertext\n",
    "    key1_inv = pow(key1, -1, 26) #finding the inverse of key1 mod 26 using built in python function\n",
    "    plaintext = \"\"\n",
    "    for char in text:\n",
    "        if char.isalpha(): #Change only the alphabets\n",
    "            order = ord(char)\n",
    "            #Range for lowercase letter is 97 to 122\n",
    "            if char.islower():\n",
    "                order = order - 97\n",
    "                order = ((order - key2) * key1_inv) % 26\n",
    "                order = order + 97\n",
    "                new_char = chr(order)\n",
    "                plaintext = plaintext + new_char\n",
    "            #Range for uppercase letter is 65 to 90\n",
    "            if char.isupper():\n",
    "                order = order - 65\n",
    "                order = ((order - key2) * key1_inv) % 26\n",
    "                order = order + 65\n",
    "                new_char = chr(order)\n",
    "                plaintext = plaintext + new_char\n",
    "        #Keep other characters same as it\n",
    "        else :\n",
    "            plaintext = plaintext + char \n",
    "\n",
    "    return plaintext, key1_inv"
   ]
  },
  {
   "cell_type": "code",
   "execution_count": 12,
   "metadata": {},
   "outputs": [
    {
     "name": "stdout",
     "output_type": "stream",
     "text": [
      "Entered plaintext:  \"Affine_Cipher\"\n",
      "Entered keys are: \n",
      "key1 =  5 \n",
      "key2 =  3\n",
      "Ciphertext :  \"Dccrqx_Nramxk\"\n",
      "Inverse value of key1:  21\n",
      "Decrypted text :  \"Affine_Cipher\"\n"
     ]
    }
   ],
   "source": [
    "#Input section\n",
    "plaintext = input(\"Enter the plaintext: \")\n",
    "key1 = int(input(\"Enter the first key: \"))\n",
    "key2 = int(input(\"Enter the second key : \"))\n",
    "\n",
    "#Function calling\n",
    "ciphertext = encryption(plaintext, key1, key2)\n",
    "decrypted_text, inv = decryption(ciphertext, key1, key2)\n",
    "\n",
    "#Output Section\n",
    "print(\"Entered plaintext: \", plaintext)\n",
    "print(\"Entered keys are: \\nkey1 = \", key1, \"\\nkey2 = \", key2)\n",
    "print(\"Ciphertext : \", ciphertext)\n",
    "print(\"Inverse value of key1: \", inv)\n",
    "print(\"Decrypted text : \", decrypted_text)"
   ]
  }
 ],
 "metadata": {
  "kernelspec": {
   "display_name": "Python 3",
   "language": "python",
   "name": "python3"
  },
  "language_info": {
   "codemirror_mode": {
    "name": "ipython",
    "version": 3
   },
   "file_extension": ".py",
   "mimetype": "text/x-python",
   "name": "python",
   "nbconvert_exporter": "python",
   "pygments_lexer": "ipython3",
   "version": "3.12.4"
  },
  "orig_nbformat": 4
 },
 "nbformat": 4,
 "nbformat_minor": 2
}
